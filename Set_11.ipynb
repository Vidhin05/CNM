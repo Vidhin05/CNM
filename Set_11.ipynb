{
 "cells": [
  {
   "cell_type": "markdown",
   "metadata": {
    "colab_type": "text",
    "id": "ggpPusBoxZt8"
   },
   "source": [
    "# Computational and Numerical Methods\n",
    "## Group 16\n",
    "### Set 11 (08-10-2018): Nonlinear Systems and the Newton Method\n",
    "#### Vidhin Parmar   201601003\n",
    "#### Parth Shah      201601086"
   ]
  },
  {
   "cell_type": "raw",
   "metadata": {
    "colab_type": "text",
    "id": "a50RW7-JxysE"
   },
   "source": [
    "<script>\n",
    "  function code_toggle() {\n",
    "    if (code_shown){\n",
    "      $('div.input').hide('500');\n",
    "      $('#toggleButton').val('Show Code')\n",
    "    } else {\n",
    "      $('div.input').show('500');\n",
    "      $('#toggleButton').val('Hide Code')\n",
    "    }\n",
    "    code_shown = !code_shown\n",
    "  }\n",
    "\n",
    "  $( document ).ready(function(){\n",
    "    code_shown=false;\n",
    "    $('div.input').hide()\n",
    "  });\n",
    "</script>\n",
    "<form action=\"javascript:code_toggle()\"><input type=\"submit\" id=\"toggleButton\" value=\"Show Code\"></form>"
   ]
  },
  {
   "cell_type": "code",
   "execution_count": 1,
   "metadata": {
    "colab": {},
    "colab_type": "code",
    "id": "Gq2UkwuFeRmh"
   },
   "outputs": [],
   "source": [
    "import numpy as np\n",
    "import pandas as pd\n",
    "import matplotlib.pyplot as plt\n",
    "from mpl_toolkits.mplot3d import Axes3D\n",
    "import scipy\n",
    "import scipy.linalg as la\n",
    "from sympy import symbols, diff\n",
    "from sympy import *\n",
    "import mpmath"
   ]
  },
  {
   "cell_type": "markdown",
   "metadata": {},
   "source": [
    "$x^2+4y^2-9=0$\n",
    "\n",
    "$18y−14x^2+ 45 = 0$"
   ]
  },
  {
   "cell_type": "code",
   "execution_count": 2,
   "metadata": {},
   "outputs": [
    {
     "data": {
      "image/png": "[encoded data removed]",
      "text/plain": [
       "<Figure size 432x288 with 1 Axes>"
      ]
     },
     "metadata": {
      "needs_background": "light"
     },
     "output_type": "display_data"
    }
   ],
   "source": [
    "th = np.arange(0, 2*np.pi + np.pi/50, np.pi/50) \n",
    "plt.plot(3*np.cos(th), 1.5*np.sin(th), label=\"x^2+y^2=9\")\n",
    "t = np.arange(-5, 5 + 0.01, 0.01) \n",
    "plt.plot((9/14)*t, (-2.5 + ((9/28)*(t**2))), label=\"18y - 14x^2 +45 =0\")\n",
    "plt.legend(loc=\"best\")\n",
    "plt.grid(True)\n",
    "plt.show()"
   ]
  },
  {
   "cell_type": "code",
   "execution_count": 3,
   "metadata": {
    "colab": {
     "base_uri": "https://localhost:8080/",
     "height": 34
    },
    "colab_type": "code",
    "id": "RQpVC57NeO8r",
    "outputId": "1ab1d198-03fe-4eb1-f25b-cbf1dd7c3c3e"
   },
   "outputs": [
    {
     "data": {
      "text/plain": [
       "('Root1 : ', 2.1372167369636323, 1.0526519628113704)"
      ]
     },
     "execution_count": 3,
     "metadata": {},
     "output_type": "execute_result"
    }
   ],
   "source": [
    "x,y = symbols('x y')\n",
    "f = lambda a,b: a**2 + 4*b**2 - 9\n",
    "g = lambda a,b: -14*a**2 + 18*b + 45\n",
    "\n",
    "fx = lambdify((x,y), diff(x**2 + 4*y**2 - 9, x), \"numpy\")\n",
    "fy = lambdify((x,y), diff(x**2 + 4*y**2 - 9, y), \"numpy\")\n",
    "gx = lambdify((x,y), diff(-14*x**2 + 18*y + 45, x), \"numpy\")\n",
    "gy = lambdify((x,y), diff(-14*x**2 + 18*y + 45, y), \"numpy\")\n",
    "\n",
    "x0, y0 = 1, 1\n",
    "  \n",
    "for i in range(25):\n",
    "    mat1 = np.array([[fx(x0,y0), fy(x0,y0)], [gx(x0,y0), gy(x0,y0)]], dtype=np.float32)\n",
    "    mat2 = np.array([[-f(x0,y0)], [-g(x0,y0)]], dtype=np.float32)\n",
    "    ans = la.solve(mat1, mat2)\n",
    "    x0, y0 = x0+ans[0,0], y0+ans[1,0]\n",
    "  \n",
    "\"Root1 : \", x0, y0"
   ]
  },
  {
   "cell_type": "code",
   "execution_count": 4,
   "metadata": {
    "colab": {
     "base_uri": "https://localhost:8080/",
     "height": 34
    },
    "colab_type": "code",
    "id": "FzLYM7rxss5l",
    "outputId": "d20712db-1751-4cb9-f8b2-1e1d28f7c1b3"
   },
   "outputs": [
    {
     "data": {
      "text/plain": [
       "('Root2 : ', -2.1372167369636323, 1.0526519628113704)"
      ]
     },
     "execution_count": 4,
     "metadata": {},
     "output_type": "execute_result"
    }
   ],
   "source": [
    "x,y = symbols('x y')\n",
    "f = lambda a,b: a**2 + 4*b**2 - 9\n",
    "g = lambda a,b: -14*a**2 + 18*b + 45\n",
    "\n",
    "fx = lambdify((x,y), diff(x**2 + 4*y**2 - 9, x), \"numpy\")\n",
    "fy = lambdify((x,y), diff(x**2 + 4*y**2 - 9, y), \"numpy\")\n",
    "gx = lambdify((x,y), diff(-14*x**2 + 18*y + 45, x), \"numpy\")\n",
    "gy = lambdify((x,y), diff(-14*x**2 + 18*y + 45, y), \"numpy\")\n",
    "\n",
    "x0, y0 = -1, 1\n",
    "  \n",
    "for i in range(25):\n",
    "    mat1 = np.array([[fx(x0,y0), fy(x0,y0)], [gx(x0,y0), gy(x0,y0)]], dtype=np.float32)\n",
    "    mat2 = np.array([[-f(x0,y0)], [-g(x0,y0)]], dtype=np.float32)\n",
    "    ans = la.solve(mat1, mat2)\n",
    "    x0, y0 = x0+ans[0,0], y0+ans[1,0]\n",
    "  \n",
    "\"Root2 : \", x0, y0"
   ]
  },
  {
   "cell_type": "code",
   "execution_count": 5,
   "metadata": {
    "colab": {
     "base_uri": "https://localhost:8080/",
     "height": 34
    },
    "colab_type": "code",
    "id": "hrnNiUFqjJdP",
    "outputId": "f4ad5f97-bd0f-4cd1-fb83-33fea870f7f4"
   },
   "outputs": [
    {
     "data": {
      "text/plain": [
       "('Root3 : ', -1.2031669633477737, -1.3740805342399418)"
      ]
     },
     "execution_count": 5,
     "metadata": {},
     "output_type": "execute_result"
    }
   ],
   "source": [
    "x,y = symbols('x y')\n",
    "f = lambda a,b: a**2 + 4*b**2 - 9\n",
    "g = lambda a,b: -14*a**2 + 18*b + 45\n",
    "\n",
    "fx = lambdify((x,y), diff(x**2 + 4*y**2 - 9, x), \"numpy\")\n",
    "fy = lambdify((x,y), diff(x**2 + 4*y**2 - 9, y), \"numpy\")\n",
    "gx = lambdify((x,y), diff(-14*x**2 + 18*y + 45, x), \"numpy\")\n",
    "gy = lambdify((x,y), diff(-14*x**2 + 18*y + 45, y), \"numpy\")\n",
    "\n",
    "x0, y0 = -1, -1\n",
    "  \n",
    "for i in range(25):\n",
    "    mat1 = np.array([[fx(x0,y0), fy(x0,y0)], [gx(x0,y0), gy(x0,y0)]], dtype=np.float32)\n",
    "    mat2 = np.array([[-f(x0,y0)], [-g(x0,y0)]], dtype=np.float32)\n",
    "    ans = la.solve(mat1, mat2)\n",
    "    x0, y0 = x0+ans[0,0], y0+ans[1,0]\n",
    "  \n",
    "\"Root3 : \", x0, y0"
   ]
  },
  {
   "cell_type": "code",
   "execution_count": 6,
   "metadata": {
    "colab": {
     "base_uri": "https://localhost:8080/",
     "height": 34
    },
    "colab_type": "code",
    "id": "FROER8vejRr2",
    "outputId": "6d6d0950-3b46-472b-fd82-324e24ed74e2"
   },
   "outputs": [
    {
     "data": {
      "text/plain": [
       "('Root4 : ', 1.2031669633477737, -1.3740805342399418)"
      ]
     },
     "execution_count": 6,
     "metadata": {},
     "output_type": "execute_result"
    }
   ],
   "source": [
    "x,y = symbols('x y')\n",
    "f = lambda a,b: a**2 + 4*b**2 - 9\n",
    "g = lambda a,b: -14*a**2 + 18*b + 45\n",
    "\n",
    "fx = lambdify((x,y), diff(x**2 + 4*y**2 - 9, x), \"numpy\")\n",
    "fy = lambdify((x,y), diff(x**2 + 4*y**2 - 9, y), \"numpy\")\n",
    "gx = lambdify((x,y), diff(-14*x**2 + 18*y + 45, x), \"numpy\")\n",
    "gy = lambdify((x,y), diff(-14*x**2 + 18*y + 45, y), \"numpy\")\n",
    "\n",
    "x0, y0 = 1, -1\n",
    "  \n",
    "for i in range(25):\n",
    "    mat1 = np.array([[fx(x0,y0), fy(x0,y0)], [gx(x0,y0), gy(x0,y0)]], dtype=np.float32)\n",
    "    mat2 = np.array([[-f(x0,y0)], [-g(x0,y0)]], dtype=np.float32)\n",
    "    ans = la.solve(mat1, mat2)\n",
    "    x0, y0 = x0+ans[0,0], y0+ans[1,0]\n",
    "  \n",
    "\"Root4 : \", x0, y0"
   ]
  }
 ],
 "metadata": {
  "kernelspec": {
   "display_name": "Python 3",
   "language": "python",
   "name": "python3"
  },
  "language_info": {
   "codemirror_mode": {
    "name": "ipython",
    "version": 3
   },
   "file_extension": ".py",
   "mimetype": "text/x-python",
   "name": "python",
   "nbconvert_exporter": "python",
   "pygments_lexer": "ipython3",
   "version": "3.6.6"
  }
 },
 "nbformat": 4,
 "nbformat_minor": 2
}
