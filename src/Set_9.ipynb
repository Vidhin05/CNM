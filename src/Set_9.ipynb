{
 "cells": [
  {
   "cell_type": "markdown",
   "metadata": {
    "colab_type": "text",
    "id": "ggpPusBoxZt8"
   },
   "source": [
    "# Computational and Numerical Methods\n",
    "## Group 16\n",
    "### Set 9 (08-10-2018): The Gaussian Elimination Method\n",
    "#### Vidhin Parmar   201601003\n",
    "#### Parth Shah      201601086"
   ]
  },
  {
   "cell_type": "raw",
   "metadata": {
    "colab_type": "text",
    "id": "a50RW7-JxysE"
   },
   "source": [
    "<script>\n",
    "  function code_toggle() {\n",
    "    if (code_shown){\n",
    "      $('div.input').hide('500');\n",
    "      $('#toggleButton').val('Show Code')\n",
    "    } else {\n",
    "      $('div.input').show('500');\n",
    "      $('#toggleButton').val('Hide Code')\n",
    "    }\n",
    "    code_shown = !code_shown\n",
    "  }\n",
    "\n",
    "  $( document ).ready(function(){\n",
    "    code_shown=false;\n",
    "    $('div.input').hide()\n",
    "  });\n",
    "</script>\n",
    "<form action=\"javascript:code_toggle()\"><input type=\"submit\" id=\"toggleButton\" value=\"Show Code\"></form>"
   ]
  },
  {
   "cell_type": "code",
   "execution_count": 1,
   "metadata": {
    "colab": {},
    "colab_type": "code",
    "id": "DL-d_h7UBCW8"
   },
   "outputs": [],
   "source": [
    "import numpy as np\n",
    "from sympy import *\n",
    "init_printing(use_unicode=True)"
   ]
  },
  {
   "cell_type": "code",
   "execution_count": 2,
   "metadata": {},
   "outputs": [],
   "source": [
    "def _iszero(x):\n",
    "    return x.is_zero\n",
    "\n",
    "def rref(self, iszerofunc=_iszero, simplify=False):\n",
    "        simpfunc = simplify if isinstance(\n",
    "            simplify, FunctionType) else _simplify\n",
    "        pivot, r = 0, self.as_mutable()\n",
    "        pivotlist = []\n",
    "        for i in range(r.cols):\n",
    "            if pivot == r.rows:\n",
    "                break\n",
    "            if simplify:\n",
    "                r[pivot, i] = simpfunc(r[pivot, i])\n",
    "            if iszerofunc(r[pivot, i]):\n",
    "                for k in range(pivot, r.rows):\n",
    "                    if simplify and k > pivot:\n",
    "                        r[k, i] = simpfunc(r[k, i])\n",
    "                    if not iszerofunc(r[k, i]):\n",
    "                        r.row_swap(pivot, k)\n",
    "                        break\n",
    "                else:\n",
    "                    continue\n",
    "            scale = r[pivot, i]\n",
    "            r.row_op(pivot, lambda x, _: x / scale)\n",
    "            for j in range(r.rows):\n",
    "                if j == pivot:\n",
    "                    continue\n",
    "                scale = r[j, i]\n",
    "                r.zip_row_op(j, pivot, lambda x, y: x - scale*y)\n",
    "            pivotlist.append(i)\n",
    "            pivot += 1\n",
    "        return self._new(r)"
   ]
  },
  {
   "cell_type": "code",
   "execution_count": 3,
   "metadata": {},
   "outputs": [
    {
     "name": "stdout",
     "output_type": "stream",
     "text": [
      "Q1.\n"
     ]
    },
    {
     "data": {
      "text/latex": [
       "$$\\left[\\begin{matrix}1 & 2 & 1 & 0\\\\2 & 2 & 3 & 3\\\\-1 & -3 & 0 & 2\\end{matrix}\\right]$$"
      ],
      "text/plain": [
       "⎡1   2   1  0⎤\n",
       "⎢            ⎥\n",
       "⎢2   2   3  3⎥\n",
       "⎢            ⎥\n",
       "⎣-1  -3  0  2⎦"
      ]
     },
     "execution_count": 3,
     "metadata": {},
     "output_type": "execute_result"
    }
   ],
   "source": [
    "M = Matrix([[1, 2, 1, 0], [2, 2, 3, 3], [-1, -3, 0, 2]])\n",
    "print(\"Q1.\")\n",
    "M"
   ]
  },
  {
   "cell_type": "code",
   "execution_count": 4,
   "metadata": {},
   "outputs": [
    {
     "name": "stdout",
     "output_type": "stream",
     "text": [
      "Row-Reduced Echelon form is:\n"
     ]
    },
    {
     "data": {
      "text/latex": [
       "$$\\left[\\begin{matrix}1 & 0 & 0 & 1\\\\0 & 1 & 0 & -1\\\\0 & 0 & 1 & 1\\end{matrix}\\right]$$"
      ],
      "text/plain": [
       "⎡1  0  0  1 ⎤\n",
       "⎢           ⎥\n",
       "⎢0  1  0  -1⎥\n",
       "⎢           ⎥\n",
       "⎣0  0  1  1 ⎦"
      ]
     },
     "execution_count": 4,
     "metadata": {},
     "output_type": "execute_result"
    }
   ],
   "source": [
    "print(\"Row-Reduced Echelon form is:\")\n",
    "M.rref()[0]"
   ]
  },
  {
   "cell_type": "markdown",
   "metadata": {},
   "source": [
    "#### $x_1 = 1$, $x_2 = -1$, $x_3 = 1$"
   ]
  },
  {
   "cell_type": "code",
   "execution_count": 5,
   "metadata": {},
   "outputs": [
    {
     "name": "stdout",
     "output_type": "stream",
     "text": [
      "Q2.\n"
     ]
    },
    {
     "data": {
      "text/latex": [
       "$$\\left[\\begin{matrix}4 & 3 & 2 & 1 & 1\\\\3 & 4 & 3 & 2 & 1\\\\2 & 3 & 4 & 3 & -1\\\\1 & 2 & 3 & 4 & -1\\end{matrix}\\right]$$"
      ],
      "text/plain": [
       "⎡4  3  2  1  1 ⎤\n",
       "⎢              ⎥\n",
       "⎢3  4  3  2  1 ⎥\n",
       "⎢              ⎥\n",
       "⎢2  3  4  3  -1⎥\n",
       "⎢              ⎥\n",
       "⎣1  2  3  4  -1⎦"
      ]
     },
     "execution_count": 5,
     "metadata": {},
     "output_type": "execute_result"
    }
   ],
   "source": [
    "M = Matrix([[4, 3, 2, 1, 1], [3, 4, 3, 2, 1], [2, 3, 4, 3, -1], [1, 2, 3, 4, -1]])\n",
    "print(\"Q2.\")\n",
    "M"
   ]
  },
  {
   "cell_type": "code",
   "execution_count": 6,
   "metadata": {},
   "outputs": [
    {
     "name": "stdout",
     "output_type": "stream",
     "text": [
      "Row-Reduced Echelon form is:\n"
     ]
    },
    {
     "data": {
      "text/latex": [
       "$$\\left[\\begin{matrix}1 & 0 & 0 & 0 & 0\\\\0 & 1 & 0 & 0 & 1\\\\0 & 0 & 1 & 0 & -1\\\\0 & 0 & 0 & 1 & 0\\end{matrix}\\right]$$"
      ],
      "text/plain": [
       "⎡1  0  0  0  0 ⎤\n",
       "⎢              ⎥\n",
       "⎢0  1  0  0  1 ⎥\n",
       "⎢              ⎥\n",
       "⎢0  0  1  0  -1⎥\n",
       "⎢              ⎥\n",
       "⎣0  0  0  1  0 ⎦"
      ]
     },
     "execution_count": 6,
     "metadata": {},
     "output_type": "execute_result"
    }
   ],
   "source": [
    "print(\"Row-Reduced Echelon form is:\")\n",
    "M.rref()[0]"
   ]
  },
  {
   "cell_type": "markdown",
   "metadata": {},
   "source": [
    "#### $x_1 = 0$, $x_2 = 1$, $x_3 = -1$, $x_4 = 0$"
   ]
  },
  {
   "cell_type": "code",
   "execution_count": 7,
   "metadata": {},
   "outputs": [
    {
     "name": "stdout",
     "output_type": "stream",
     "text": [
      "Q3.\n"
     ]
    },
    {
     "data": {
      "text/latex": [
       "$$\\left[\\begin{matrix}1 & 1 & -1\\\\1 & 2 & 2\\\\-2 & 1 & 1\\end{matrix}\\right]$$"
      ],
      "text/plain": [
       "⎡1   1  -1⎤\n",
       "⎢         ⎥\n",
       "⎢1   2  2 ⎥\n",
       "⎢         ⎥\n",
       "⎣-2  1  1 ⎦"
      ]
     },
     "execution_count": 7,
     "metadata": {},
     "output_type": "execute_result"
    }
   ],
   "source": [
    "M = Matrix([[1, 1, -1], [1, 2, 2], [-2, 1, 1]])\n",
    "print(\"Q3.\")\n",
    "M"
   ]
  },
  {
   "cell_type": "code",
   "execution_count": 8,
   "metadata": {},
   "outputs": [
    {
     "name": "stdout",
     "output_type": "stream",
     "text": [
      "The inverse of the matrix is:\n"
     ]
    },
    {
     "data": {
      "text/latex": [
       "$$\\left[\\begin{matrix}0 & \\frac{1}{5} & - \\frac{2}{5}\\\\\\frac{1}{2} & \\frac{1}{10} & \\frac{3}{10}\\\\- \\frac{1}{2} & \\frac{3}{10} & - \\frac{1}{10}\\end{matrix}\\right]$$"
      ],
      "text/plain": [
       "⎡ 0    1/5   -2/5 ⎤\n",
       "⎢                 ⎥\n",
       "⎢1/2   1/10  3/10 ⎥\n",
       "⎢                 ⎥\n",
       "⎣-1/2  3/10  -1/10⎦"
      ]
     },
     "execution_count": 8,
     "metadata": {},
     "output_type": "execute_result"
    }
   ],
   "source": [
    "print(\"The inverse of the matrix is:\")\n",
    "M**-1"
   ]
  }
 ],
 "metadata": {
  "kernelspec": {
   "display_name": "Python 3",
   "language": "python",
   "name": "python3"
  },
  "language_info": {
   "codemirror_mode": {
    "name": "ipython",
    "version": 3
   },
   "file_extension": ".py",
   "mimetype": "text/x-python",
   "name": "python",
   "nbconvert_exporter": "python",
   "pygments_lexer": "ipython3",
   "version": "3.6.6"
  }
 },
 "nbformat": 4,
 "nbformat_minor": 2
}
